{
 "cells": [
  {
   "cell_type": "code",
   "execution_count": 76,
   "metadata": {},
   "outputs": [],
   "source": [
    "#coding=utf-8"
   ]
  },
  {
   "cell_type": "code",
   "execution_count": 77,
   "metadata": {},
   "outputs": [],
   "source": [
    "from bs4 import BeautifulSoup\n",
    "from selenium import webdriver\n",
    "from selenium.webdriver.support.ui import WebDriverWait\n",
    "from selenium.webdriver.support import expected_conditions as EC\n",
    "from selenium.webdriver.common.by import By\n",
    "from selenium.webdriver.common.keys import Keys\n",
    "import pandas as pd\n",
    "import time"
   ]
  },
  {
   "cell_type": "code",
   "execution_count": 78,
   "metadata": {},
   "outputs": [],
   "source": [
    "outfile = open('touzijie-2.csv', 'a')"
   ]
  },
  {
   "cell_type": "code",
   "execution_count": 79,
   "metadata": {},
   "outputs": [],
   "source": [
    "def unit(tag):\n",
    "    expand_nob = tag.find_element_by_xpath(\".//dl/dt[5]/a\")\n",
    "    expand_nob.click()\n",
    "    time.sleep(2)\n",
    "    driver.switch_to_window(driver.window_handles[-1])\n",
    "    info = wait.until(EC.presence_of_element_located((By.CLASS_NAME, \"info\")))\n",
    "    financier = info.find_element_by_xpath(\".//ul/li[1]/a\").text.encode('utf-8')\n",
    "    quantity = info.find_element_by_xpath(\".//ul/li[3]\").text.encode('utf-8')\n",
    "    rounds = info.find_element_by_xpath(\".//ul/li[4]/span[2]\").text.encode('utf-8')\n",
    "    industry_list = info.find_elements(By.XPATH, \".//ul/li[6]/a\")\n",
    "    industry = \"\"\n",
    "    for n, i in enumerate(industry_list):\n",
    "        if n == 0:\n",
    "            industry += i.text.encode('utf-8')\n",
    "        elif n > 0:\n",
    "            industry += ';' + i.text.encode('utf-8')\n",
    "    industry = \"[\" + industry + ']'\n",
    "    date = info.find_element_by_xpath(\".//ul/li[5]\").text.encode('utf-8')\n",
    "    title = info.find_element_by_xpath(\".//h1\").text.encode('utf-8')\n",
    "    describe = driver.find_element_by_xpath(\"//*[@id='desc']/p\").text.encode('utf-8')\n",
    "    investors_list = info.find_elements(By.XPATH, \".//ul/li[2]/a\")\n",
    "    investors = \"\"\n",
    "    for n, i in enumerate(investors_list):\n",
    "        if n == 0:\n",
    "            investors += i.text.encode('utf-8')\n",
    "        elif n > 0:\n",
    "            investors += ';' + i.text.encode('utf-8')\n",
    "    investors = '[' + investors + ']'\n",
    "    result = pd.DataFrame({'date': [date], 'title': [title], 'financier': [financier], 'quantity': [quantity], 'rounds': [rounds], 'industry': [industry], 'investors': [investors]})\n",
    "    driver.close()\n",
    "    driver.switch_to_window(driver.window_handles[-1])\n",
    "    #print 'result: ', result\n",
    "    return result"
   ]
  },
  {
   "cell_type": "code",
   "execution_count": null,
   "metadata": {},
   "outputs": [],
   "source": [
    "url = 'http://zdb.pedaily.cn/inv/'\n",
    "#username = ''\n",
    "#password = ''\n",
    "driver = webdriver.Firefox()\n",
    "driver.set_window_size(1000, 1000)\n",
    "driver.get(url)\n",
    "wait = WebDriverWait(driver, 10)\n",
    "time.sleep(1)\n",
    "#element = wait.until(EC.presence_of_element_located((By.XPATH, \"//*[@id='loginName']\")))\n",
    "#element.send_keys(username)\n",
    "#element = driver.find_element_by_xpath(\"//*[@id='pwd']\")\n",
    "#element.send_keys(password + Keys.ENTER)\n",
    "time.sleep(2)\n",
    "element = wait.until(EC.presence_of_element_located((By.XPATH, \"/html/body/div[4]/div/div[1]/div[3]/span/span\")))\n",
    "EVENT_LIST = driver.find_elements(By.XPATH, \"//*[@id='inv-list']/li\")[1:]\n",
    "while True:\n",
    "    try:\n",
    "        element = wait.until(EC.presence_of_element_located((By.XPATH, \"/html/body/div[4]/div/div[1]/div[3]/span/span\")))\n",
    "        EVENT_LIST = driver.find_elements(By.XPATH, \"//*[@id='inv-list']/li\")[1:]\n",
    "        DATA = pd.DataFrame({'date': [], 'title': [], 'financier': [], 'quantity': [], 'rounds': [], 'industry': [], 'investors': []})\n",
    "        #current_url = driver.current_url\n",
    "        for n, li in enumerate(EVENT_LIST):\n",
    "            try:\n",
    "                DATA = pd.concat([DATA, unit(li)])\n",
    "                #print 'DATA: ', DATA\n",
    "                time.sleep(2)\n",
    "            except Exception as e:\n",
    "                print e\n",
    "                driver.close()\n",
    "                driver.switch_to_window(driver.window_handles[-1])\n",
    "        DATA.to_csv(outfile)\n",
    "        print 'Results saved.'\n",
    "        time.sleep(1)\n",
    "        nextpage = driver.find_elements(By.XPATH, \"/html/body/div[4]/div/div[1]/div[4]/div[3]/a\")[-1]\n",
    "        if nextpage.text == u'下一页':\n",
    "            nextpage.click()\n",
    "            time.sleep(5)\n",
    "        else:\n",
    "            break\n",
    "    except Exception as e:\n",
    "        print e  \n",
    "        driver.quit()\n",
    "driver.quit()\n",
    "outfile.close()"
   ]
  },
  {
   "cell_type": "code",
   "execution_count": null,
   "metadata": {},
   "outputs": [],
   "source": []
  },
  {
   "cell_type": "code",
   "execution_count": null,
   "metadata": {},
   "outputs": [],
   "source": []
  }
 ],
 "metadata": {
  "kernelspec": {
   "display_name": "Python 2",
   "language": "python",
   "name": "python2"
  },
  "language_info": {
   "codemirror_mode": {
    "name": "ipython",
    "version": 2
   },
   "file_extension": ".py",
   "mimetype": "text/x-python",
   "name": "python",
   "nbconvert_exporter": "python",
   "pygments_lexer": "ipython2",
   "version": "2.7.12"
  }
 },
 "nbformat": 4,
 "nbformat_minor": 2
}
